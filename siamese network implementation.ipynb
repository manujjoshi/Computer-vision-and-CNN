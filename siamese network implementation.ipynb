{
 "cells": [
  {
   "cell_type": "markdown",
   "id": "646c8394",
   "metadata": {},
   "source": [
    "## `siamese network implementation`\n",
    "- takes 2 images and tries to compare features of 2 images, if features are matching mark it as similar else not similar.\n",
    "- our mobile use **facemesh algo(detect landmarks) + siamese(classify) + mobilenet** network in image recognition"
   ]
  },
  {
   "cell_type": "code",
   "execution_count": 79,
   "id": "8faa3d79",
   "metadata": {},
   "outputs": [],
   "source": [
    "import numpy as np\n",
    "import matplotlib.pyplot as plt\n",
    "import pandas as pd\n",
    "import tensorflow as tf\n",
    "import tensorflow.keras as keras\n",
    "import random\n",
    "from tensorflow.keras.models import Model\n",
    "from tensorflow.keras.layers import Flatten,Dense,Dropout,Lambda,Input\n",
    "from tensorflow.keras.layers import Conv2D,Activation,AveragePooling2D"
   ]
  },
  {
   "cell_type": "code",
   "execution_count": 80,
   "id": "ddee33c0",
   "metadata": {},
   "outputs": [],
   "source": [
    "from tensorflow.keras.datasets import mnist"
   ]
  },
  {
   "cell_type": "code",
   "execution_count": 81,
   "id": "d8dfedac",
   "metadata": {},
   "outputs": [],
   "source": [
    "from tensorflow.keras import backend as k"
   ]
  },
  {
   "cell_type": "code",
   "execution_count": 82,
   "id": "f0e0001c",
   "metadata": {},
   "outputs": [],
   "source": [
    "num_classes = 10\n",
    "def euclidean_dis(vects):\n",
    "    x,y = vects\n",
    "    sum_square = k.sum(k.square(x-y),axis=1,keepdims=True)\n",
    "    return k.sqrt(k.maximum(sum_square,k.epsilon()))"
   ]
  },
  {
   "cell_type": "code",
   "execution_count": 83,
   "id": "ca4f4b5e",
   "metadata": {},
   "outputs": [],
   "source": [
    "def contrastive_loss(y_true,y_pred):\n",
    "    y_true = tf.dtypes.cast(y_true,tf.float32)\n",
    "    y_pred = tf.dtypes.cast(y_pred,tf.float32)\n",
    "    margin = 1\n",
    "    square_pred = k.square(y_pred)\n",
    "    margin_square = k.square(k.maximum(margin - y_pred,0))\n",
    "    return k.mean(y_true*square_pred+(1-y_true) * margin_square)"
   ]
  },
  {
   "cell_type": "code",
   "execution_count": 84,
   "id": "8593eab2",
   "metadata": {},
   "outputs": [],
   "source": [
    "def create_pairs(x,digit_indices):\n",
    "    pairs = []\n",
    "    labels = []\n",
    "    n = min([len(digit_indices[d]) for d in range(num_classes)]) - 1\n",
    "    for d in range(num_classes):\n",
    "        for i in range(n):\n",
    "            z1,z2 = digit_indices[d][i],digit_indices[d][i+1] # static number\n",
    "            pairs += [[x[z1],x[z2]]]\n",
    "            inc = random.randrange(1,num_classes)\n",
    "            dn = (d + inc) % num_classes\n",
    "            z1,z2 = digit_indices[d][i],digit_indices[dn][i] # random number\n",
    "            pairs += [[x[z1],x[z2]]]\n",
    "            labels += [1,0]\n",
    "    return np.array(pairs),np.array(labels)"
   ]
  },
  {
   "cell_type": "markdown",
   "id": "ffb23de5",
   "metadata": {},
   "source": [
    "### `neural network in a function way`*****"
   ]
  },
  {
   "cell_type": "code",
   "execution_count": 85,
   "id": "57273747",
   "metadata": {},
   "outputs": [],
   "source": [
    "def create_neural_net(input_shape):\n",
    "    input = Input(shape=input_shape)\n",
    "    x = Conv2D(4,(5,5),activation='tanh')(input)\n",
    "    x = AveragePooling2D(pool_size=(2,2))(x)\n",
    "    x = Conv2D(16,(5,5),activation='tanh')(x)\n",
    "    x = AveragePooling2D(pool_size=(2,2))(x)\n",
    "    x = Flatten()(x)\n",
    "    x = Dense(10,activation='tanh')(x)\n",
    "    model = Model(input,x)\n",
    "    model.summary()\n",
    "    return model"
   ]
  },
  {
   "cell_type": "code",
   "execution_count": 86,
   "id": "f3f5b36b",
   "metadata": {},
   "outputs": [],
   "source": [
    "# Conv2D??"
   ]
  },
  {
   "cell_type": "code",
   "execution_count": 87,
   "id": "f76f8389",
   "metadata": {},
   "outputs": [],
   "source": [
    "def euclidean_dist_output_shape(shapes):\n",
    "    shape1,shape2 = shapes\n",
    "    return (shape1[0],1)\n",
    "\n",
    "################ Both are same methods ####################\n",
    "\n",
    "def compute_accuracy(y_true,y_pred):\n",
    "    pred = y_pred.ravel() < 0.5\n",
    "    return np.mean(pred == y_true)\n",
    "\n",
    "def accuracy(y_true,y_pred):\n",
    "    return k.mean(k.equal(y_true,k.cast(y_pred < 0.5,y_true.dtype)))"
   ]
  },
  {
   "cell_type": "markdown",
   "id": "17673f2f",
   "metadata": {},
   "source": [
    "### `Create data`"
   ]
  },
  {
   "cell_type": "code",
   "execution_count": 88,
   "id": "8bd7263e",
   "metadata": {},
   "outputs": [],
   "source": [
    "(X_train,y_train),(X_test,y_test) = mnist.load_data()"
   ]
  },
  {
   "cell_type": "code",
   "execution_count": 89,
   "id": "086b543b",
   "metadata": {},
   "outputs": [
    {
     "data": {
      "text/plain": [
       "((60000, 28, 28), (10000, 28, 28))"
      ]
     },
     "execution_count": 89,
     "metadata": {},
     "output_type": "execute_result"
    }
   ],
   "source": [
    "X_train.shape,X_test.shape"
   ]
  },
  {
   "cell_type": "code",
   "execution_count": 90,
   "id": "cf88df19",
   "metadata": {},
   "outputs": [
    {
     "name": "stdout",
     "output_type": "stream",
     "text": [
      "(60000, 28, 28, 1)\n",
      "(10000, 28, 28, 1)\n",
      "(60000,)\n",
      "(10000,)\n"
     ]
    }
   ],
   "source": [
    "X_train = X_train.reshape(X_train.shape[0],28,28,1)\n",
    "X_test = X_test.reshape(X_test.shape[0],28,28,1)\n",
    "input_shape = (1,28,28)\n",
    "print(X_train.shape)\n",
    "print(X_test.shape)\n",
    "print(y_train.shape)\n",
    "print(y_test.shape)\n",
    "\n",
    "X_train = X_train.astype('float32')\n",
    "X_test = X_test.astype('float32')\n",
    "y_train = y_train.astype('float32')\n",
    "y_test = y_test.astype('float32')\n",
    "\n",
    "# normalizing\n",
    "X_train /= 255  \n",
    "X_test /= 255"
   ]
  },
  {
   "cell_type": "code",
   "execution_count": 91,
   "id": "9344ddad",
   "metadata": {},
   "outputs": [],
   "source": [
    "input_shape = X_train.shape[1:]\n",
    "input_shape = (28,28,1)"
   ]
  },
  {
   "cell_type": "code",
   "execution_count": 92,
   "id": "8a3a8df2",
   "metadata": {},
   "outputs": [
    {
     "name": "stdout",
     "output_type": "stream",
     "text": [
      "Model: \"model_9\"\n",
      "_________________________________________________________________\n",
      "Layer (type)                 Output Shape              Param #   \n",
      "=================================================================\n",
      "input_15 (InputLayer)        [(None, 28, 28, 1)]       0         \n",
      "_________________________________________________________________\n",
      "conv2d_8 (Conv2D)            (None, 24, 24, 4)         104       \n",
      "_________________________________________________________________\n",
      "average_pooling2d_8 (Average (None, 12, 12, 4)         0         \n",
      "_________________________________________________________________\n",
      "conv2d_9 (Conv2D)            (None, 8, 8, 16)          1616      \n",
      "_________________________________________________________________\n",
      "average_pooling2d_9 (Average (None, 4, 4, 16)          0         \n",
      "_________________________________________________________________\n",
      "flatten_4 (Flatten)          (None, 256)               0         \n",
      "_________________________________________________________________\n",
      "dense_4 (Dense)              (None, 10)                2570      \n",
      "=================================================================\n",
      "Total params: 4,290\n",
      "Trainable params: 4,290\n",
      "Non-trainable params: 0\n",
      "_________________________________________________________________\n"
     ]
    }
   ],
   "source": [
    "digit_indices = [np.where(y_train == i)[0] for i in range(num_classes)]\n",
    "tr_pairs,tr_y = create_pairs(X_train,digit_indices)\n",
    "\n",
    "digit_indices = [np.where(y_test == i)[0] for i in range(num_classes)]\n",
    "te_pairs,te_y = create_pairs(X_test,digit_indices)\n",
    "\n",
    "base_network = create_neural_net(input_shape)"
   ]
  },
  {
   "cell_type": "code",
   "execution_count": 93,
   "id": "b5c76fce",
   "metadata": {},
   "outputs": [
    {
     "data": {
      "text/plain": [
       "(108400, 2, 28, 28, 1)"
      ]
     },
     "execution_count": 93,
     "metadata": {},
     "output_type": "execute_result"
    }
   ],
   "source": [
    "tr_pairs.shape"
   ]
  },
  {
   "cell_type": "code",
   "execution_count": 94,
   "id": "043aa28c",
   "metadata": {},
   "outputs": [
    {
     "data": {
      "text/plain": [
       "(108400,)"
      ]
     },
     "execution_count": 94,
     "metadata": {},
     "output_type": "execute_result"
    }
   ],
   "source": [
    "tr_y.shape"
   ]
  },
  {
   "cell_type": "code",
   "execution_count": 95,
   "id": "8cda00eb",
   "metadata": {},
   "outputs": [
    {
     "data": {
      "text/plain": [
       "(17820, 2, 28, 28, 1)"
      ]
     },
     "execution_count": 95,
     "metadata": {},
     "output_type": "execute_result"
    }
   ],
   "source": [
    "te_pairs.shape"
   ]
  },
  {
   "cell_type": "code",
   "execution_count": 96,
   "id": "68aa4caf",
   "metadata": {},
   "outputs": [
    {
     "data": {
      "text/plain": [
       "(17820,)"
      ]
     },
     "execution_count": 96,
     "metadata": {},
     "output_type": "execute_result"
    }
   ],
   "source": [
    "te_y.shape"
   ]
  },
  {
   "cell_type": "code",
   "execution_count": 97,
   "id": "82546aca",
   "metadata": {},
   "outputs": [],
   "source": [
    "input_a = Input(shape=input_shape)\n",
    "input_b = Input(shape=input_shape)\n",
    "processed_a = base_network(input_a)\n",
    "processed_b = base_network(input_b)\n",
    "\n",
    "distance = Lambda(euclidean_dis,\n",
    "                  output_shape=euclidean_dist_output_shape)([processed_a,processed_b])\n",
    "model = Model([input_a,input_b],distance)"
   ]
  },
  {
   "cell_type": "code",
   "execution_count": 98,
   "id": "65560180",
   "metadata": {},
   "outputs": [
    {
     "name": "stdout",
     "output_type": "stream",
     "text": [
      "Epoch 1/20\n",
      "847/847 [==============================] - 64s 72ms/step - loss: 0.1085 - accuracy: 0.1207 - val_loss: 0.0764 - val_accuracy: 0.0732\n",
      "Epoch 2/20\n",
      "847/847 [==============================] - 66s 78ms/step - loss: 0.0752 - accuracy: 0.0647 - val_loss: 0.0647 - val_accuracy: 0.0517\n",
      "Epoch 3/20\n",
      "847/847 [==============================] - 59s 69ms/step - loss: 0.0657 - accuracy: 0.0526 - val_loss: 0.0571 - val_accuracy: 0.0463\n",
      "Epoch 4/20\n",
      "847/847 [==============================] - 60s 71ms/step - loss: 0.0595 - accuracy: 0.0458 - val_loss: 0.0543 - val_accuracy: 0.0342\n",
      "Epoch 5/20\n",
      "847/847 [==============================] - 53s 62ms/step - loss: 0.0552 - accuracy: 0.0408 - val_loss: 0.0489 - val_accuracy: 0.0316\n",
      "Epoch 6/20\n",
      "847/847 [==============================] - 48s 57ms/step - loss: 0.0522 - accuracy: 0.0375 - val_loss: 0.0471 - val_accuracy: 0.0331\n",
      "Epoch 7/20\n",
      "847/847 [==============================] - 50s 59ms/step - loss: 0.0497 - accuracy: 0.0351 - val_loss: 0.0454 - val_accuracy: 0.0318\n",
      "Epoch 8/20\n",
      "847/847 [==============================] - 51s 60ms/step - loss: 0.0477 - accuracy: 0.0338 - val_loss: 0.0432 - val_accuracy: 0.0280\n",
      "Epoch 9/20\n",
      "847/847 [==============================] - 50s 59ms/step - loss: 0.0462 - accuracy: 0.0320 - val_loss: 0.0414 - val_accuracy: 0.0293\n",
      "Epoch 10/20\n",
      "847/847 [==============================] - 50s 59ms/step - loss: 0.0450 - accuracy: 0.0313 - val_loss: 0.0412 - val_accuracy: 0.0267\n",
      "Epoch 11/20\n",
      "847/847 [==============================] - 51s 60ms/step - loss: 0.0440 - accuracy: 0.0301 - val_loss: 0.0405 - val_accuracy: 0.0297\n",
      "Epoch 12/20\n",
      "847/847 [==============================] - 49s 58ms/step - loss: 0.0429 - accuracy: 0.0295 - val_loss: 0.0390 - val_accuracy: 0.0273\n",
      "Epoch 13/20\n",
      "847/847 [==============================] - 45s 53ms/step - loss: 0.0423 - accuracy: 0.0295 - val_loss: 0.0394 - val_accuracy: 0.0271\n",
      "Epoch 14/20\n",
      "847/847 [==============================] - 45s 53ms/step - loss: 0.0413 - accuracy: 0.0278 - val_loss: 0.0378 - val_accuracy: 0.0259\n",
      "Epoch 15/20\n",
      "847/847 [==============================] - 45s 53ms/step - loss: 0.0409 - accuracy: 0.0276 - val_loss: 0.0388 - val_accuracy: 0.0231\n",
      "Epoch 16/20\n",
      "847/847 [==============================] - 45s 53ms/step - loss: 0.0403 - accuracy: 0.0273 - val_loss: 0.0382 - val_accuracy: 0.0298\n",
      "Epoch 17/20\n",
      "847/847 [==============================] - 49s 58ms/step - loss: 0.0400 - accuracy: 0.0266 - val_loss: 0.0376 - val_accuracy: 0.0254\n",
      "Epoch 18/20\n",
      "847/847 [==============================] - 51s 60ms/step - loss: 0.0393 - accuracy: 0.0259 - val_loss: 0.0368 - val_accuracy: 0.0233\n",
      "Epoch 19/20\n",
      "847/847 [==============================] - 54s 64ms/step - loss: 0.0390 - accuracy: 0.0260 - val_loss: 0.0363 - val_accuracy: 0.0231\n",
      "Epoch 20/20\n",
      "847/847 [==============================] - 56s 66ms/step - loss: 0.0386 - accuracy: 0.0253 - val_loss: 0.0369 - val_accuracy: 0.0254\n"
     ]
    },
    {
     "data": {
      "text/plain": [
       "<tensorflow.python.keras.callbacks.History at 0x25d10cae550>"
      ]
     },
     "execution_count": 98,
     "metadata": {},
     "output_type": "execute_result"
    }
   ],
   "source": [
    "\n",
    "model.compile(loss=contrastive_loss,optimizer='adam',metrics=['accuracy'])\n",
    "\n",
    "model.fit([tr_pairs[:,0],tr_pairs[:,1]],\n",
    "          tr_y,\n",
    "          batch_size=128,\n",
    "          epochs=20,\n",
    "          validation_data=([te_pairs[:,0],te_pairs[:,1]],te_y))"
   ]
  },
  {
   "cell_type": "markdown",
   "id": "144a42ea",
   "metadata": {},
   "source": [
    "### `prediction`"
   ]
  },
  {
   "cell_type": "code",
   "execution_count": 100,
   "id": "5df8e9a2",
   "metadata": {},
   "outputs": [
    {
     "name": "stdout",
     "output_type": "stream",
     "text": [
      "Accuracy on training data 97.39206642066421\n",
      "Accuracy on testing data 97.46352413019079\n"
     ]
    }
   ],
   "source": [
    "y_pred = model.predict([tr_pairs[:,0],tr_pairs[:,1]])\n",
    "tr_acc = compute_accuracy(tr_y,y_pred)\n",
    "y_pred = model.predict([te_pairs[:,0],te_pairs[:,1]])\n",
    "te_acc = compute_accuracy(te_y,y_pred)\n",
    "print('Accuracy on training data',(tr_acc*100))\n",
    "print('Accuracy on testing data',(te_acc*100))"
   ]
  },
  {
   "cell_type": "markdown",
   "id": "ebd276ac",
   "metadata": {},
   "source": [
    "### `plotting`"
   ]
  },
  {
   "cell_type": "code",
   "execution_count": null,
   "id": "02d4c165",
   "metadata": {},
   "outputs": [],
   "source": []
  },
  {
   "cell_type": "markdown",
   "id": "384eb6ba",
   "metadata": {},
   "source": [
    "## `END ------------------------------------------------`"
   ]
  }
 ],
 "metadata": {
  "kernelspec": {
   "display_name": "Python 3",
   "language": "python",
   "name": "python3"
  },
  "language_info": {
   "codemirror_mode": {
    "name": "ipython",
    "version": 3
   },
   "file_extension": ".py",
   "mimetype": "text/x-python",
   "name": "python",
   "nbconvert_exporter": "python",
   "pygments_lexer": "ipython3",
   "version": "3.8.8"
  }
 },
 "nbformat": 4,
 "nbformat_minor": 5
}
