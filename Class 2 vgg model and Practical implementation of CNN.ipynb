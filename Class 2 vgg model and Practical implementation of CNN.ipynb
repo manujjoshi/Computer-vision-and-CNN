{
 "cells": [
  {
   "cell_type": "markdown",
   "id": "c72a2a1f",
   "metadata": {},
   "source": [
    "# `Colab Notebooks`\n",
    "## Class 2: `Practical Implementation of CNN`"
   ]
  },
  {
   "cell_type": "markdown",
   "id": "0491665b",
   "metadata": {},
   "source": [
    "### 1. [Extracting feature through vgg model](https://colab.research.google.com/drive/1nYWZlbc8umGDPYuw_FYSTaHg_foNO2NQ#scrollTo=GtjBVGytrPwp)\n",
    "\n",
    "### 2. [CNN from scratch with mnist dataset *****](https://colab.research.google.com/drive/1nYWZlbc8umGDPYuw_FYSTaHg_foNO2NQ#scrollTo=GtjBVGytrPwp)"
   ]
  },
  {
   "cell_type": "markdown",
   "id": "6b1323a4",
   "metadata": {},
   "source": [
    "### `END `"
   ]
  }
 ],
 "metadata": {
  "kernelspec": {
   "display_name": "Python 3",
   "language": "python",
   "name": "python3"
  },
  "language_info": {
   "codemirror_mode": {
    "name": "ipython",
    "version": 3
   },
   "file_extension": ".py",
   "mimetype": "text/x-python",
   "name": "python",
   "nbconvert_exporter": "python",
   "pygments_lexer": "ipython3",
   "version": "3.8.8"
  }
 },
 "nbformat": 4,
 "nbformat_minor": 5
}
