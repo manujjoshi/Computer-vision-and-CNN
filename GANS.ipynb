{
 "cells": [
  {
   "cell_type": "markdown",
   "id": "262c6717",
   "metadata": {},
   "source": [
    "# `Vanilla Generative Adversial networks (GAN)(Basic architecture)`\n",
    "#### [Blog on GANS](https://neptune.ai/blog/6-gan-architectures)\n",
    "#### Some types of GANS:\n",
    "- **CycleGAN**: Transfer the pixel properties\n",
    "- **StyleGAN**: Image Restoration\n",
    "- **pixelRNN**: Uses LST model\n",
    "- **text-2-image**\n",
    "- **DiscoGAN**\n",
    "- **lsGAN**"
   ]
  },
  {
   "cell_type": "code",
   "execution_count": null,
   "id": "c75dd036",
   "metadata": {},
   "outputs": [],
   "source": []
  }
 ],
 "metadata": {
  "kernelspec": {
   "display_name": "Python 3",
   "language": "python",
   "name": "python3"
  },
  "language_info": {
   "codemirror_mode": {
    "name": "ipython",
    "version": 3
   },
   "file_extension": ".py",
   "mimetype": "text/x-python",
   "name": "python",
   "nbconvert_exporter": "python",
   "pygments_lexer": "ipython3",
   "version": "3.8.8"
  }
 },
 "nbformat": 4,
 "nbformat_minor": 5
}
