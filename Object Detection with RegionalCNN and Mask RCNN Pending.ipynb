{
 "cells": [
  {
   "cell_type": "markdown",
   "id": "d2b0f9e6",
   "metadata": {},
   "source": [
    "# `Object Detection with RegionalCNN`\n",
    "### `RCNN`:\n",
    "1. Taking image\n",
    "2. Computing Bounding Box( annotate it)\n",
    "3. Selective search\n",
    "4. 2000 bounding box\n",
    "5. IOU computation\n",
    "6. Augmentation\n",
    "7. CNN(extract feature)\n",
    "\n",
    "#### Disadvantage:\n",
    "- It's very slow\n",
    "\n",
    "### `Fast RCNN`:\n",
    "1. Taking image\n",
    "2. Computing Bounding Box( annotate it)\n",
    "3. Augmentation\n",
    "4. CNN (extract feature)\n",
    "5. 2000 bounding box\n",
    "6. IOU computation\n",
    "7. Pass through softmax\n",
    "\n",
    "#### Disadvantage:\n",
    "- 2000 bounding box is sometimes unnecessary\n",
    "\n",
    "### `Faster RCNN`:\n",
    "1. Taking image\n",
    "2. Computing Bounding Box ( annotate it)\n",
    "3. Augmentation\n",
    "4. CNN (extract feature)\n",
    "5. Feature Map\n",
    "6. IOU computation\n",
    "7. Pass through softmax"
   ]
  },
  {
   "cell_type": "markdown",
   "id": "c105d4ef",
   "metadata": {},
   "source": [
    "### `Implementation of Mask R-CNN`\n",
    "##### - [Github link](https://github.com/matterport/Mask_RCNN)\n",
    "##### - [Notebook](http://localhost:8888/notebooks/DL_Concepts/CNN/Mask_RCNN/Mask-RCNN.ipynb)"
   ]
  },
  {
   "cell_type": "markdown",
   "id": "d264b01a",
   "metadata": {},
   "source": [
    "## `END -------------------------------------------`"
   ]
  }
 ],
 "metadata": {
  "kernelspec": {
   "display_name": "Python 3",
   "language": "python",
   "name": "python3"
  },
  "language_info": {
   "codemirror_mode": {
    "name": "ipython",
    "version": 3
   },
   "file_extension": ".py",
   "mimetype": "text/x-python",
   "name": "python",
   "nbconvert_exporter": "python",
   "pygments_lexer": "ipython3",
   "version": "3.8.8"
  }
 },
 "nbformat": 4,
 "nbformat_minor": 5
}
