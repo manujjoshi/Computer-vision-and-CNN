{
 "cells": [
  {
   "cell_type": "markdown",
   "id": "80387e14",
   "metadata": {},
   "source": [
    "## `Projects ----------------------------------------------------`\n",
    "\n",
    "### 1. [How to use a pre-trained model (VGG) for image classification](https://towardsdatascience.com/how-to-use-a-pre-trained-model-vgg-for-image-classification-8dd7c4a4a517)\n",
    "### 2. [How to identify Spam using Natural Language Processing (NLP)](https://towardsdatascience.com/how-to-identify-spam-using-natural-language-processing-nlp-af91f4170113)\n",
    "### 3. [How to Make Predictions with Keras](https://machinelearningmastery.com/how-to-make-classification-and-regression-predictions-for-deep-learning-models-in-keras/)"
   ]
  },
  {
   "cell_type": "markdown",
   "id": "1466b692",
   "metadata": {},
   "source": [
    "## `END -----------------------------------------`"
   ]
  }
 ],
 "metadata": {
  "kernelspec": {
   "display_name": "Python 3",
   "language": "python",
   "name": "python3"
  },
  "language_info": {
   "codemirror_mode": {
    "name": "ipython",
    "version": 3
   },
   "file_extension": ".py",
   "mimetype": "text/x-python",
   "name": "python",
   "nbconvert_exporter": "python",
   "pygments_lexer": "ipython3",
   "version": "3.8.8"
  }
 },
 "nbformat": 4,
 "nbformat_minor": 5
}
