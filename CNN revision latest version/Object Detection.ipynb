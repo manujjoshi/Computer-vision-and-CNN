{
 "cells": [
  {
   "cell_type": "markdown",
   "id": "40b4635a",
   "metadata": {},
   "source": [
    "# `Object Detection`\n",
    "\n",
    "- **Annotation**: You can only built an object detection module once you annotate your image.\n",
    "\n",
    "### 3 Types of annotation:\n",
    "- Regional CNN: you need to learn the regions\n",
    "- Fast RCNN\n",
    "- Faster RCNN\n",
    "\n",
    "### `Mobile Net by Google`: object detector used in mobile devices.\n",
    "\n",
    "### `YOLO`:\n",
    "\n",
    "### `Object detection steps`:\n",
    "1. Annotating the object(vgg annotator)\n",
    "2. Learning these annotation\n",
    "\n",
    "# `Object Detection with RegionalCNN`\n",
    "\n",
    "### `RCNN`:\n",
    "1. Taking image\n",
    "2. Computing Bounding Box( annotate it)\n",
    "3. Selective search\n",
    "4. 2000 bounding box\n",
    "5. IOU computation\n",
    "6. Augmentation\n",
    "7. CNN(extract feature)\n",
    "\n",
    "#### Disadvantage:\n",
    "- It's very slow\n",
    "\n",
    "### `Fast RCNN`:\n",
    "1. Taking image\n",
    "2. Computing Bounding Box( annotate it)\n",
    "3. Augmentation\n",
    "4. CNN (extract feature)\n",
    "5. 2000 bounding box\n",
    "6. IOU computation\n",
    "7. Pass through softmax\n",
    "\n",
    "#### Disadvantage:\n",
    "- 2000 bounding box is sometimes unnecessary\n",
    "\n",
    "### `Faster RCNN`: *****\n",
    "1. Taking image\n",
    "2. Computing Bounding Box ( annotate it)\n",
    "3. Augmentation\n",
    "4. CNN (extract feature)\n",
    "5. Feature Map\n",
    "6. IOU computation\n",
    "7. Pass through softmax"
   ]
  },
  {
   "cell_type": "markdown",
   "id": "af854271",
   "metadata": {},
   "source": [
    "# `Mask-RCNN on custom dataset`\n",
    "#### [Mask RCNN github Link](https://github.com/matterport/Mask_RCNN)\n",
    "#### []() "
   ]
  },
  {
   "cell_type": "code",
   "execution_count": null,
   "id": "53cbdca4",
   "metadata": {},
   "outputs": [],
   "source": []
  }
 ],
 "metadata": {
  "kernelspec": {
   "display_name": "Python 3",
   "language": "python",
   "name": "python3"
  },
  "language_info": {
   "codemirror_mode": {
    "name": "ipython",
    "version": 3
   },
   "file_extension": ".py",
   "mimetype": "text/x-python",
   "name": "python",
   "nbconvert_exporter": "python",
   "pygments_lexer": "ipython3",
   "version": "3.8.8"
  }
 },
 "nbformat": 4,
 "nbformat_minor": 5
}
