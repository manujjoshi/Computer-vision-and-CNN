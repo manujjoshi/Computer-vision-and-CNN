{
 "cells": [
  {
   "cell_type": "markdown",
   "id": "8de29754",
   "metadata": {},
   "source": [
    "## `CNN pipeline`:\n",
    "- \n",
    "\n",
    "\n",
    "# `Introduction to CNN and other theory`\n",
    "- Filter is a feature extractor, **filter values are dynamic in in terms of CNN, not static like we have seen in opencv**.\n",
    "- We convolve here, it's different from matrix multiplication.\n",
    "- Flatten means converting into single array.\n",
    "- With convolution image size is reducing.\n",
    "- While we keep on applying the filters, length of that array increases.\n",
    "- That becomes slowly a flattened layer, this flattened layer when you pass through a dense fully connected layer.\n",
    "- **How many layers of convolution are required??** Formula: **n - f + 1** => **(6,6) image size => 6 - 3((3,3) => filter size) + 1 => 4 => (4,4)**\n",
    "- (4,4) image size => 4 - 3(filter size) + 1 => 2 => (2,2)\n",
    "- **disadvantage**:\n",
    "- The border of the image, have only one slide of convolution.\n",
    "- given image is convoluted more towards center and less towards border. \n",
    "- we are extracting less features from border and more features from center.\n",
    "- quality of feature reduces if it's in border.\n",
    "\n",
    "\n",
    "### `Padding`:\n",
    "- **We can remove this by => padding**:\n",
    "- Applying extra layer of pixel at both sides of x and y axis.\n",
    "- quality of feature extraction increases.\n",
    "- padding is not allowing to reduce the size of the image.\n",
    "- **How many layers of convolution are required??** Formula: **n + 2p - f + 1**\n",
    "- **(6,6) image size => 6 + 2 * 1 - 3((3,3) + 1 => filter size) + 1 => 6 => (6,6)**\n",
    "\n",
    "### `Stridding`:\n",
    "- Don't slide immediately, you can keep a gap between slidding of windows.\n",
    "- In order to reduce the number of layers of convolution we use stridding.\n",
    "- Stridding gives you opportunity to visualize macro factures.\n",
    "- Formula: **(n + 2p - f + 1)/S** S => Stride\n",
    "- With padding => (6,6) => (8,8) => (6 + 2 * 1 - 3 + 1 )/2 => (3,3)\n",
    "- Without padding => (6,6) => (2,2)\n",
    "\n",
    "### `MaxPooling`:\n",
    "- Max-pooling means max out of all these pixel values in a given window.\n",
    "- Helping us to extract the features.\n",
    "- It tries to extract white regions more.\n",
    "- The feature get more prominent, the edges get more prominent.\n",
    "- Maxpooling reduces size, extracting important features.\n",
    "\n",
    "### `Global Average Pooling`:\n",
    "\n",
    "\n",
    "### `Important Points`:\n",
    "\n",
    "- Idealy filter values are NN weights, when a model learns or goes through CNN, these weights are changed by backpropogation algo.\n",
    "- With each an every iteration weights keeps on changing unless you global maxima reaches global minima."
   ]
  },
  {
   "cell_type": "markdown",
   "id": "d50d2cdb",
   "metadata": {},
   "source": [
    "## `END ---------------------------------`"
   ]
  }
 ],
 "metadata": {
  "kernelspec": {
   "display_name": "Python 3",
   "language": "python",
   "name": "python3"
  },
  "language_info": {
   "codemirror_mode": {
    "name": "ipython",
    "version": 3
   },
   "file_extension": ".py",
   "mimetype": "text/x-python",
   "name": "python",
   "nbconvert_exporter": "python",
   "pygments_lexer": "ipython3",
   "version": "3.8.8"
  }
 },
 "nbformat": 4,
 "nbformat_minor": 5
}
