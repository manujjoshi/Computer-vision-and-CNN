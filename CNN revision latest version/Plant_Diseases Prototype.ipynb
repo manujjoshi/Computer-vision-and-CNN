{
 "cells": [
  {
   "cell_type": "code",
   "execution_count": null,
   "metadata": {
    "id": "iOCKPmdzFih6"
   },
   "outputs": [],
   "source": [
    "# !pip install kaggle"
   ]
  },
  {
   "cell_type": "markdown",
   "metadata": {},
   "source": [
    "[Kaggle code](https://www.kaggle.com/aronpollner/38-categories)"
   ]
  },
  {
   "cell_type": "markdown",
   "metadata": {
    "id": "AEq0H7M4weEl"
   },
   "source": [
    "# [models](https://towardsdatascience.com/transfer-learning-with-convolutional-neural-networks-in-pytorch-dd09190245ce)\n",
    "\n",
    "# **Plant Diseases**"
   ]
  },
  {
   "cell_type": "code",
   "execution_count": null,
   "metadata": {
    "id": "HmF1rTfCFqDR"
   },
   "outputs": [],
   "source": [
    "from keras.layers import Input, Lambda, Dense, Flatten\n",
    "from keras.models import Model\n",
    "from keras.applications.vgg16 import VGG16\n",
    "import os\n",
    "from keras.applications.vgg16 import preprocess_input\n",
    "from keras.preprocessing import image\n",
    "from keras.preprocessing.image import ImageDataGenerator\n",
    "from keras.models import Sequential\n",
    "from tensorflow.keras.optimizers import Adam\n",
    "import numpy as np\n",
    "from glob import glob\n",
    "import matplotlib.pyplot as plt\n",
    "import pandas as pd\n",
    "import cv2 as cv2\n",
    "from tensorflow.keras.layers import Conv2D,MaxPooling2D,Dropout,BatchNormalization, GlobalAveragePooling2D\n",
    "import tensorflow as tf"
   ]
  },
  {
   "cell_type": "code",
   "execution_count": null,
   "metadata": {
    "id": "724G7h1EFldg"
   },
   "outputs": [],
   "source": [
    "import os\n",
    "# os.environ['KAGGLE_CONFIG_DIR']='/content'a"
   ]
  },
  {
   "cell_type": "code",
   "execution_count": null,
   "metadata": {
    "id": "cQfz_au8FljM"
   },
   "outputs": [],
   "source": [
    "# !kaggle datasets download -d vipoooool/new-plant-diseases-dataset"
   ]
  },
  {
   "cell_type": "code",
   "execution_count": null,
   "metadata": {
    "id": "7wBaf-G5Flml"
   },
   "outputs": [],
   "source": [
    "# !unzip new-plant-diseases-dataset.zip"
   ]
  },
  {
   "cell_type": "code",
   "execution_count": null,
   "metadata": {
    "id": "HqgsAP3kPKNC"
   },
   "outputs": [],
   "source": [
    "train_path= '/content/New Plant Diseases Dataset(Augmented)/New Plant Diseases Dataset(Augmented)/train'\n",
    "valid_path= '/content/New Plant Diseases Dataset(Augmented)/New Plant Diseases Dataset(Augmented)/valid'"
   ]
  },
  {
   "cell_type": "code",
   "execution_count": null,
   "metadata": {
    "colab": {
     "base_uri": "https://localhost:8080/"
    },
    "id": "msOAZFBIB6IS",
    "outputId": "e0072c1d-11b9-4708-accb-2ab5511effce"
   },
   "outputs": [
    {
     "name": "stdout",
     "output_type": "stream",
     "text": [
      "['Tomato___Tomato_mosaic_virus', 'Corn_(maize)___healthy', 'Potato___healthy', 'Grape___healthy', 'Tomato___Leaf_Mold', 'Tomato___healthy', 'Corn_(maize)___Common_rust_', 'Tomato___Late_blight', 'Soybean___healthy', 'Apple___Black_rot', 'Potato___Early_blight', 'Tomato___Early_blight', 'Grape___Esca_(Black_Measles)', 'Tomato___Target_Spot', 'Apple___healthy', 'Apple___Apple_scab', 'Cherry_(including_sour)___Powdery_mildew', 'Corn_(maize)___Cercospora_leaf_spot Gray_leaf_spot', 'Peach___healthy', 'Orange___Haunglongbing_(Citrus_greening)', 'Pepper,_bell___healthy', 'Grape___Leaf_blight_(Isariopsis_Leaf_Spot)', 'Raspberry___healthy', 'Tomato___Spider_mites Two-spotted_spider_mite', 'Apple___Cedar_apple_rust', 'Tomato___Tomato_Yellow_Leaf_Curl_Virus', 'Squash___Powdery_mildew', 'Pepper,_bell___Bacterial_spot', 'Tomato___Septoria_leaf_spot', 'Tomato___Bacterial_spot', 'Peach___Bacterial_spot', 'Cherry_(including_sour)___healthy', 'Strawberry___healthy', 'Potato___Late_blight', 'Grape___Black_rot', 'Corn_(maize)___Northern_Leaf_Blight', 'Strawberry___Leaf_scorch', 'Blueberry___healthy']\n",
      "/content/New Plant Diseases Dataset(Augmented)/New Plant Diseases Dataset(Augmented)/train/Tomato___Tomato_mosaic_virus\n"
     ]
    }
   ],
   "source": [
    "dirls = os.listdir(train_path)\n",
    "print(dirls)\n",
    "val = train_path + '/'+dirls[0]\n",
    "print(val)"
   ]
  },
  {
   "cell_type": "code",
   "execution_count": null,
   "metadata": {
    "id": "TcLJcGHDCIh-"
   },
   "outputs": [],
   "source": [
    "def loading_images(path):\n",
    "    pathnames = []\n",
    "    dir_list = os.listdir(path)\n",
    "    unique_classes = sorted(dir_list)\n",
    "    for i in range(len(unique_classes)):\n",
    "        newpath = train_path + \"/\"+ unique_classes[i]\n",
    "        pathnames.append(newpath)\n",
    "    return(pathnames, unique_classes) "
   ]
  },
  {
   "cell_type": "code",
   "execution_count": null,
   "metadata": {
    "id": "BFGQciJkFqpK"
   },
   "outputs": [],
   "source": [
    "def valid_loading_images(path):\n",
    "    pathnames = []\n",
    "    dir_list = os.listdir(path)\n",
    "    unique_classes = sorted(dir_list)\n",
    "    for i in range(len(unique_classes)):\n",
    "        newpath = valid_path + \"/\"+ unique_classes[i]\n",
    "        pathnames.append(newpath)\n",
    "    return(pathnames, unique_classes) "
   ]
  },
  {
   "cell_type": "code",
   "execution_count": null,
   "metadata": {
    "id": "a5RVbghICR3H"
   },
   "outputs": [],
   "source": [
    "paths, classes = loading_images(train_path)\n",
    "valid_paths,valid_classes=valid_loading_images(valid_path)"
   ]
  },
  {
   "cell_type": "code",
   "execution_count": null,
   "metadata": {
    "id": "dGSfAmunCYc9"
   },
   "outputs": [],
   "source": [
    "def labeling_images(unique_paths, unique_classes):\n",
    "    img_paths =[]\n",
    "    labels = []\n",
    "    for path, label in zip(unique_paths, unique_classes):\n",
    "        dir_list = os.listdir(path)\n",
    "        for i in dir_list:\n",
    "            img_dir_list = path + \"/\" + i\n",
    "            img_paths.append(img_dir_list)\n",
    "            labels.append(label)\n",
    "    return(img_paths, labels)\n",
    "    "
   ]
  },
  {
   "cell_type": "code",
   "execution_count": null,
   "metadata": {
    "id": "NERl4FilCj5L"
   },
   "outputs": [],
   "source": [
    "img_paths , labels = labeling_images(paths, classes)\n",
    "valid_img_paths,valid_lables=labeling_images(valid_paths, valid_classes)"
   ]
  },
  {
   "cell_type": "code",
   "execution_count": null,
   "metadata": {
    "colab": {
     "base_uri": "https://localhost:8080/"
    },
    "id": "rwLl989kCj8V",
    "outputId": "efed089f-3c01-4789-8cea-fe0b2591afdf"
   },
   "outputs": [
    {
     "name": "stdout",
     "output_type": "stream",
     "text": [
      "70295\n",
      "70295\n"
     ]
    }
   ],
   "source": [
    "print(img_paths.__len__())\n",
    "print(labels.__len__())"
   ]
  },
  {
   "cell_type": "code",
   "execution_count": null,
   "metadata": {
    "colab": {
     "base_uri": "https://localhost:8080/"
    },
    "id": "fGnb8lEXFHi8",
    "outputId": "33783978-76ae-4f0a-fd8e-10c6e76563a9"
   },
   "outputs": [
    {
     "name": "stdout",
     "output_type": "stream",
     "text": [
      "17572\n",
      "17572\n"
     ]
    }
   ],
   "source": [
    "print(valid_img_paths.__len__())\n",
    "print(valid_lables.__len__())"
   ]
  },
  {
   "cell_type": "code",
   "execution_count": null,
   "metadata": {
    "colab": {
     "base_uri": "https://localhost:8080/",
     "height": 304
    },
    "id": "Qi_gb323Cj_O",
    "outputId": "b188ef91-5750-4618-c0eb-c268efc1d976"
   },
   "outputs": [
    {
     "name": "stdout",
     "output_type": "stream",
     "text": [
      "<class 'numpy.ndarray'>\n"
     ]
    },
    {
     "data": {
      "text/plain": [
       "<matplotlib.image.AxesImage at 0x7f73a1b5aa90>"
      ]
     },
     "execution_count": 94,
     "metadata": {},
     "output_type": "execute_result"
    },
    {
     "data": {
      "image/png": "[encoded data removed]",
      "text/plain": [
       "<Figure size 432x288 with 1 Axes>"
      ]
     },
     "metadata": {
      "needs_background": "light"
     },
     "output_type": "display_data"
    }
   ],
   "source": [
    "img = cv2.imread(img_paths[0])\n",
    "print(type(img))\n",
    "plt.imshow(img)"
   ]
  },
  {
   "cell_type": "code",
   "execution_count": null,
   "metadata": {
    "id": "CMmgrLrtCkCD"
   },
   "outputs": [],
   "source": [
    "train_dataset = list(zip(img_paths, labels))\n",
    "valid_dataset= list(zip(valid_img_paths, valid_lables))"
   ]
  },
  {
   "cell_type": "code",
   "execution_count": null,
   "metadata": {
    "id": "ojVPYaIbDSAn"
   },
   "outputs": [],
   "source": [
    "train_dataset_df = pd.DataFrame(train_dataset, columns = ['Image_Paths', 'Labels'])\n",
    "valid_dataset_df = pd.DataFrame(valid_dataset, columns = ['Image_Paths', 'Labels'])"
   ]
  },
  {
   "cell_type": "code",
   "execution_count": null,
   "metadata": {
    "colab": {
     "base_uri": "https://localhost:8080/",
     "height": 206
    },
    "id": "Gkv6RstcCkFu",
    "outputId": "a685b1d7-429e-4585-82b9-5426cac92efe"
   },
   "outputs": [
    {
     "data": {
      "text/html": [
       "\n",
       "  <div id=\"df-0a029cc7-8773-45bd-a44e-b3370e1c90ca\">\n",
       "    <div class=\"colab-df-container\">\n",
       "      <div>\n",
       "<style scoped>\n",
       "    .dataframe tbody tr th:only-of-type {\n",
       "        vertical-align: middle;\n",
       "    }\n",
       "\n",
       "    .dataframe tbody tr th {\n",
       "        vertical-align: top;\n",
       "    }\n",
       "\n",
       "    .dataframe thead th {\n",
       "        text-align: right;\n",
       "    }\n",
       "</style>\n",
       "<table border=\"1\" class=\"dataframe\">\n",
       "  <thead>\n",
       "    <tr style=\"text-align: right;\">\n",
       "      <th></th>\n",
       "      <th>Image_Paths</th>\n",
       "      <th>Labels</th>\n",
       "    </tr>\n",
       "  </thead>\n",
       "  <tbody>\n",
       "    <tr>\n",
       "      <th>0</th>\n",
       "      <td>/content/New Plant Diseases Dataset(Augmented)...</td>\n",
       "      <td>Apple___Apple_scab</td>\n",
       "    </tr>\n",
       "    <tr>\n",
       "      <th>1</th>\n",
       "      <td>/content/New Plant Diseases Dataset(Augmented)...</td>\n",
       "      <td>Apple___Apple_scab</td>\n",
       "    </tr>\n",
       "    <tr>\n",
       "      <th>2</th>\n",
       "      <td>/content/New Plant Diseases Dataset(Augmented)...</td>\n",
       "      <td>Apple___Apple_scab</td>\n",
       "    </tr>\n",
       "    <tr>\n",
       "      <th>3</th>\n",
       "      <td>/content/New Plant Diseases Dataset(Augmented)...</td>\n",
       "      <td>Apple___Apple_scab</td>\n",
       "    </tr>\n",
       "    <tr>\n",
       "      <th>4</th>\n",
       "      <td>/content/New Plant Diseases Dataset(Augmented)...</td>\n",
       "      <td>Apple___Apple_scab</td>\n",
       "    </tr>\n",
       "  </tbody>\n",
       "</table>\n",
       "</div>\n",
       "      <button class=\"colab-df-convert\" onclick=\"convertToInteractive('df-0a029cc7-8773-45bd-a44e-b3370e1c90ca')\"\n",
       "              title=\"Convert this dataframe to an interactive table.\"\n",
       "              style=\"display:none;\">\n",
       "        \n",
       "  <svg xmlns=\"http://www.w3.org/2000/svg\" height=\"24px\"viewBox=\"0 0 24 24\"\n",
       "       width=\"24px\">\n",
       "    <path d=\"M0 0h24v24H0V0z\" fill=\"none\"/>\n",
       "    <path d=\"M18.56 5.44l.94 2.06.94-2.06 2.06-.94-2.06-.94-.94-2.06-.94 2.06-2.06.94zm-11 1L8.5 8.5l.94-2.06 2.06-.94-2.06-.94L8.5 2.5l-.94 2.06-2.06.94zm10 10l.94 2.06.94-2.06 2.06-.94-2.06-.94-.94-2.06-.94 2.06-2.06.94z\"/><path d=\"M17.41 7.96l-1.37-1.37c-.4-.4-.92-.59-1.43-.59-.52 0-1.04.2-1.43.59L10.3 9.45l-7.72 7.72c-.78.78-.78 2.05 0 2.83L4 21.41c.39.39.9.59 1.41.59.51 0 1.02-.2 1.41-.59l7.78-7.78 2.81-2.81c.8-.78.8-2.07 0-2.86zM5.41 20L4 18.59l7.72-7.72 1.47 1.35L5.41 20z\"/>\n",
       "  </svg>\n",
       "      </button>\n",
       "      \n",
       "  <style>\n",
       "    .colab-df-container {\n",
       "      display:flex;\n",
       "      flex-wrap:wrap;\n",
       "      gap: 12px;\n",
       "    }\n",
       "\n",
       "    .colab-df-convert {\n",
       "      background-color: #E8F0FE;\n",
       "      border: none;\n",
       "      border-radius: 50%;\n",
       "      cursor: pointer;\n",
       "      display: none;\n",
       "      fill: #1967D2;\n",
       "      height: 32px;\n",
       "      padding: 0 0 0 0;\n",
       "      width: 32px;\n",
       "    }\n",
       "\n",
       "    .colab-df-convert:hover {\n",
       "      background-color: #E2EBFA;\n",
       "      box-shadow: 0px 1px 2px rgba(60, 64, 67, 0.3), 0px 1px 3px 1px rgba(60, 64, 67, 0.15);\n",
       "      fill: #174EA6;\n",
       "    }\n",
       "\n",
       "    [theme=dark] .colab-df-convert {\n",
       "      background-color: #3B4455;\n",
       "      fill: #D2E3FC;\n",
       "    }\n",
       "\n",
       "    [theme=dark] .colab-df-convert:hover {\n",
       "      background-color: #434B5C;\n",
       "      box-shadow: 0px 1px 3px 1px rgba(0, 0, 0, 0.15);\n",
       "      filter: drop-shadow(0px 1px 2px rgba(0, 0, 0, 0.3));\n",
       "      fill: #FFFFFF;\n",
       "    }\n",
       "  </style>\n",
       "\n",
       "      <script>\n",
       "        const buttonEl =\n",
       "          document.querySelector('#df-0a029cc7-8773-45bd-a44e-b3370e1c90ca button.colab-df-convert');\n",
       "        buttonEl.style.display =\n",
       "          google.colab.kernel.accessAllowed ? 'block' : 'none';\n",
       "\n",
       "        async function convertToInteractive(key) {\n",
       "          const element = document.querySelector('#df-0a029cc7-8773-45bd-a44e-b3370e1c90ca');\n",
       "          const dataTable =\n",
       "            await google.colab.kernel.invokeFunction('convertToInteractive',\n",
       "                                                     [key], {});\n",
       "          if (!dataTable) return;\n",
       "\n",
       "          const docLinkHtml = 'Like what you see? Visit the ' +\n",
       "            '<a target=\"_blank\" href=https://colab.research.google.com/notebooks/data_table.ipynb>data table notebook</a>'\n",
       "            + ' to learn more about interactive tables.';\n",
       "          element.innerHTML = '';\n",
       "          dataTable['output_type'] = 'display_data';\n",
       "          await google.colab.output.renderOutput(dataTable, element);\n",
       "          const docLink = document.createElement('div');\n",
       "          docLink.innerHTML = docLinkHtml;\n",
       "          element.appendChild(docLink);\n",
       "        }\n",
       "      </script>\n",
       "    </div>\n",
       "  </div>\n",
       "  "
      ],
      "text/plain": [
       "                                         Image_Paths              Labels\n",
       "0  /content/New Plant Diseases Dataset(Augmented)...  Apple___Apple_scab\n",
       "1  /content/New Plant Diseases Dataset(Augmented)...  Apple___Apple_scab\n",
       "2  /content/New Plant Diseases Dataset(Augmented)...  Apple___Apple_scab\n",
       "3  /content/New Plant Diseases Dataset(Augmented)...  Apple___Apple_scab\n",
       "4  /content/New Plant Diseases Dataset(Augmented)...  Apple___Apple_scab"
      ]
     },
     "execution_count": 97,
     "metadata": {},
     "output_type": "execute_result"
    }
   ],
   "source": [
    "train_dataset_df.head()"
   ]
  },
  {
   "cell_type": "code",
   "execution_count": null,
   "metadata": {
    "colab": {
     "base_uri": "https://localhost:8080/",
     "height": 206
    },
    "id": "txNHt2s_HF8y",
    "outputId": "8f9ab0e0-0373-4fea-9014-19bc73af6ee6"
   },
   "outputs": [
    {
     "data": {
      "text/html": [
       "\n",
       "  <div id=\"df-796ae62e-7043-49d0-a67a-07723a434143\">\n",
       "    <div class=\"colab-df-container\">\n",
       "      <div>\n",
       "<style scoped>\n",
       "    .dataframe tbody tr th:only-of-type {\n",
       "        vertical-align: middle;\n",
       "    }\n",
       "\n",
       "    .dataframe tbody tr th {\n",
       "        vertical-align: top;\n",
       "    }\n",
       "\n",
       "    .dataframe thead th {\n",
       "        text-align: right;\n",
       "    }\n",
       "</style>\n",
       "<table border=\"1\" class=\"dataframe\">\n",
       "  <thead>\n",
       "    <tr style=\"text-align: right;\">\n",
       "      <th></th>\n",
       "      <th>Image_Paths</th>\n",
       "      <th>Labels</th>\n",
       "    </tr>\n",
       "  </thead>\n",
       "  <tbody>\n",
       "    <tr>\n",
       "      <th>0</th>\n",
       "      <td>/content/New Plant Diseases Dataset(Augmented)...</td>\n",
       "      <td>Apple___Apple_scab</td>\n",
       "    </tr>\n",
       "    <tr>\n",
       "      <th>1</th>\n",
       "      <td>/content/New Plant Diseases Dataset(Augmented)...</td>\n",
       "      <td>Apple___Apple_scab</td>\n",
       "    </tr>\n",
       "    <tr>\n",
       "      <th>2</th>\n",
       "      <td>/content/New Plant Diseases Dataset(Augmented)...</td>\n",
       "      <td>Apple___Apple_scab</td>\n",
       "    </tr>\n",
       "    <tr>\n",
       "      <th>3</th>\n",
       "      <td>/content/New Plant Diseases Dataset(Augmented)...</td>\n",
       "      <td>Apple___Apple_scab</td>\n",
       "    </tr>\n",
       "    <tr>\n",
       "      <th>4</th>\n",
       "      <td>/content/New Plant Diseases Dataset(Augmented)...</td>\n",
       "      <td>Apple___Apple_scab</td>\n",
       "    </tr>\n",
       "  </tbody>\n",
       "</table>\n",
       "</div>\n",
       "      <button class=\"colab-df-convert\" onclick=\"convertToInteractive('df-796ae62e-7043-49d0-a67a-07723a434143')\"\n",
       "              title=\"Convert this dataframe to an interactive table.\"\n",
       "              style=\"display:none;\">\n",
       "        \n",
       "  <svg xmlns=\"http://www.w3.org/2000/svg\" height=\"24px\"viewBox=\"0 0 24 24\"\n",
       "       width=\"24px\">\n",
       "    <path d=\"M0 0h24v24H0V0z\" fill=\"none\"/>\n",
       "    <path d=\"M18.56 5.44l.94 2.06.94-2.06 2.06-.94-2.06-.94-.94-2.06-.94 2.06-2.06.94zm-11 1L8.5 8.5l.94-2.06 2.06-.94-2.06-.94L8.5 2.5l-.94 2.06-2.06.94zm10 10l.94 2.06.94-2.06 2.06-.94-2.06-.94-.94-2.06-.94 2.06-2.06.94z\"/><path d=\"M17.41 7.96l-1.37-1.37c-.4-.4-.92-.59-1.43-.59-.52 0-1.04.2-1.43.59L10.3 9.45l-7.72 7.72c-.78.78-.78 2.05 0 2.83L4 21.41c.39.39.9.59 1.41.59.51 0 1.02-.2 1.41-.59l7.78-7.78 2.81-2.81c.8-.78.8-2.07 0-2.86zM5.41 20L4 18.59l7.72-7.72 1.47 1.35L5.41 20z\"/>\n",
       "  </svg>\n",
       "      </button>\n",
       "      \n",
       "  <style>\n",
       "    .colab-df-container {\n",
       "      display:flex;\n",
       "      flex-wrap:wrap;\n",
       "      gap: 12px;\n",
       "    }\n",
       "\n",
       "    .colab-df-convert {\n",
       "      background-color: #E8F0FE;\n",
       "      border: none;\n",
       "      border-radius: 50%;\n",
       "      cursor: pointer;\n",
       "      display: none;\n",
       "      fill: #1967D2;\n",
       "      height: 32px;\n",
       "      padding: 0 0 0 0;\n",
       "      width: 32px;\n",
       "    }\n",
       "\n",
       "    .colab-df-convert:hover {\n",
       "      background-color: #E2EBFA;\n",
       "      box-shadow: 0px 1px 2px rgba(60, 64, 67, 0.3), 0px 1px 3px 1px rgba(60, 64, 67, 0.15);\n",
       "      fill: #174EA6;\n",
       "    }\n",
       "\n",
       "    [theme=dark] .colab-df-convert {\n",
       "      background-color: #3B4455;\n",
       "      fill: #D2E3FC;\n",
       "    }\n",
       "\n",
       "    [theme=dark] .colab-df-convert:hover {\n",
       "      background-color: #434B5C;\n",
       "      box-shadow: 0px 1px 3px 1px rgba(0, 0, 0, 0.15);\n",
       "      filter: drop-shadow(0px 1px 2px rgba(0, 0, 0, 0.3));\n",
       "      fill: #FFFFFF;\n",
       "    }\n",
       "  </style>\n",
       "\n",
       "      <script>\n",
       "        const buttonEl =\n",
       "          document.querySelector('#df-796ae62e-7043-49d0-a67a-07723a434143 button.colab-df-convert');\n",
       "        buttonEl.style.display =\n",
       "          google.colab.kernel.accessAllowed ? 'block' : 'none';\n",
       "\n",
       "        async function convertToInteractive(key) {\n",
       "          const element = document.querySelector('#df-796ae62e-7043-49d0-a67a-07723a434143');\n",
       "          const dataTable =\n",
       "            await google.colab.kernel.invokeFunction('convertToInteractive',\n",
       "                                                     [key], {});\n",
       "          if (!dataTable) return;\n",
       "\n",
       "          const docLinkHtml = 'Like what you see? Visit the ' +\n",
       "            '<a target=\"_blank\" href=https://colab.research.google.com/notebooks/data_table.ipynb>data table notebook</a>'\n",
       "            + ' to learn more about interactive tables.';\n",
       "          element.innerHTML = '';\n",
       "          dataTable['output_type'] = 'display_data';\n",
       "          await google.colab.output.renderOutput(dataTable, element);\n",
       "          const docLink = document.createElement('div');\n",
       "          docLink.innerHTML = docLinkHtml;\n",
       "          element.appendChild(docLink);\n",
       "        }\n",
       "      </script>\n",
       "    </div>\n",
       "  </div>\n",
       "  "
      ],
      "text/plain": [
       "                                         Image_Paths              Labels\n",
       "0  /content/New Plant Diseases Dataset(Augmented)...  Apple___Apple_scab\n",
       "1  /content/New Plant Diseases Dataset(Augmented)...  Apple___Apple_scab\n",
       "2  /content/New Plant Diseases Dataset(Augmented)...  Apple___Apple_scab\n",
       "3  /content/New Plant Diseases Dataset(Augmented)...  Apple___Apple_scab\n",
       "4  /content/New Plant Diseases Dataset(Augmented)...  Apple___Apple_scab"
      ]
     },
     "execution_count": 98,
     "metadata": {},
     "output_type": "execute_result"
    }
   ],
   "source": [
    "valid_dataset_df.head()"
   ]
  },
  {
   "cell_type": "code",
   "execution_count": null,
   "metadata": {
    "colab": {
     "base_uri": "https://localhost:8080/"
    },
    "id": "oUlhAF_kHOyY",
    "outputId": "571186ec-ea12-44e9-d766-d7a026f209b2"
   },
   "outputs": [
    {
     "name": "stdout",
     "output_type": "stream",
     "text": [
      "(17572, 2) (70295, 2)\n"
     ]
    }
   ],
   "source": [
    "print(valid_dataset_df.shape,train_dataset_df.shape)"
   ]
  },
  {
   "cell_type": "code",
   "execution_count": null,
   "metadata": {
    "id": "iuJxXUWRJu3V"
   },
   "outputs": [],
   "source": [
    "train_datagen = ImageDataGenerator(rescale = 1.0/255)"
   ]
  },
  {
   "cell_type": "code",
   "execution_count": null,
   "metadata": {
    "colab": {
     "base_uri": "https://localhost:8080/"
    },
    "id": "03hFhlcJJu6h",
    "outputId": "7581d0e2-aa23-44dc-f5c8-15b09651c267"
   },
   "outputs": [
    {
     "name": "stdout",
     "output_type": "stream",
     "text": [
      "Found 70295 validated image filenames belonging to 38 classes.\n"
     ]
    }
   ],
   "source": [
    "train_gen = train_datagen.flow_from_dataframe(dataframe = train_dataset_df, x_col='Image_Paths', y_col='Labels', batch_size=16, \n",
    "                                               target_size = (224, 224),class_mode = 'categorical', shuffle=True)"
   ]
  },
  {
   "cell_type": "code",
   "execution_count": null,
   "metadata": {
    "colab": {
     "base_uri": "https://localhost:8080/"
    },
    "id": "CmmLc89rJu9Y",
    "outputId": "53e7e487-917c-45a6-f798-f4fa76ab1b43"
   },
   "outputs": [
    {
     "name": "stdout",
     "output_type": "stream",
     "text": [
      "Found 17572 validated image filenames belonging to 38 classes.\n"
     ]
    }
   ],
   "source": [
    "valid_gen = train_datagen.flow_from_dataframe(dataframe = valid_dataset_df, x_col='Image_Paths', y_col='Labels', batch_size=16, target_size = (224, 224),\n",
    "                                              class_mode = 'categorical', shuffle=True)"
   ]
  },
  {
   "cell_type": "code",
   "execution_count": null,
   "metadata": {
    "colab": {
     "base_uri": "https://localhost:8080/",
     "height": 165
    },
    "id": "8eGW9A5w6Q4u",
    "outputId": "127c16de-20da-4f5c-afae-316d9530032b"
   },
   "outputs": [
    {
     "ename": "NameError",
     "evalue": "ignored",
     "output_type": "error",
     "traceback": [
      "\u001b[0;31m---------------------------------------------------------------------------\u001b[0m",
      "\u001b[0;31mNameError\u001b[0m                                 Traceback (most recent call last)",
      "\u001b[0;32m<ipython-input-103-e773c556c8c0>\u001b[0m in \u001b[0;36m<module>\u001b[0;34m()\u001b[0m\n\u001b[0;32m----> 1\u001b[0;31m \u001b[0mvvhxgvhxbhdgvydsucbudsygv\u001b[0m\u001b[0;34m\u001b[0m\u001b[0;34m\u001b[0m\u001b[0m\n\u001b[0m",
      "\u001b[0;31mNameError\u001b[0m: name 'vvhxgvhxbhdgvydsucbudsygv' is not defined"
     ]
    }
   ],
   "source": [
    "vvhxgvhxbhdgvydsucbudsygv"
   ]
  },
  {
   "cell_type": "markdown",
   "metadata": {
    "id": "EhKh9zg2UltF"
   },
   "source": [
    "# **vgg16 model (224,224,3)**"
   ]
  },
  {
   "cell_type": "code",
   "execution_count": null,
   "metadata": {
    "id": "pVBz_IfuJu_3"
   },
   "outputs": [],
   "source": [
    "base_model = tf.keras.applications.VGG16(weights='imagenet', input_shape=(224,224,3), include_top =False)"
   ]
  },
  {
   "cell_type": "code",
   "execution_count": null,
   "metadata": {
    "id": "atD6qhEnJvCV"
   },
   "outputs": [],
   "source": [
    "for layer in base_model.layers:\n",
    "  layer.trainable = False"
   ]
  },
  {
   "cell_type": "code",
   "execution_count": null,
   "metadata": {
    "id": "WWzo_wN8HO2o"
   },
   "outputs": [],
   "source": [
    "network =Sequential()\n",
    "network.add(base_model)\n",
    "\n",
    "network.add(Flatten())\n",
    "network.add(Dense(38, activation='softmax'))\n"
   ]
  },
  {
   "cell_type": "code",
   "execution_count": null,
   "metadata": {
    "id": "BOp9kUqORThQ"
   },
   "outputs": [],
   "source": [
    "base_model.summary()"
   ]
  },
  {
   "cell_type": "code",
   "execution_count": null,
   "metadata": {
    "id": "yRdxINsjQ8Hm"
   },
   "outputs": [],
   "source": [
    "network.summary()"
   ]
  },
  {
   "cell_type": "code",
   "execution_count": null,
   "metadata": {
    "id": "Icl6njK4EOr7"
   },
   "outputs": [],
   "source": [
    "network.compile(\n",
    "  loss='categorical_crossentropy',\n",
    "  optimizer='adam',\n",
    "  metrics=['accuracy']\n",
    ")"
   ]
  },
  {
   "cell_type": "code",
   "execution_count": null,
   "metadata": {
    "id": "9I6VrlDhEOvX"
   },
   "outputs": [],
   "source": [
    "network.fit(\n",
    "  train_gen,\n",
    "  validation_data=valid_gen,\n",
    "  epochs=3,verbose=1\n",
    ")"
   ]
  },
  {
   "cell_type": "code",
   "execution_count": null,
   "metadata": {
    "id": "K201Ul8UECde"
   },
   "outputs": [],
   "source": [
    "network.save('vgg16_model.h5')"
   ]
  },
  {
   "cell_type": "markdown",
   "metadata": {
    "id": "WlpQoVLKUuz2"
   },
   "source": [
    "# **vgg19 model (224,224,3)**"
   ]
  },
  {
   "cell_type": "code",
   "execution_count": null,
   "metadata": {
    "id": "M79dC09GEPHg"
   },
   "outputs": [],
   "source": [
    "from keras.applications.vgg19 import VGG19\n",
    "base_model = tf.keras.applications.VGG19(weights='imagenet', input_shape=(224,224,3), include_top =False)"
   ]
  },
  {
   "cell_type": "code",
   "execution_count": null,
   "metadata": {
    "id": "X_IjXFA9P5zr"
   },
   "outputs": [],
   "source": [
    "for layer in base_model.layers:\n",
    "  layer.trainable = False"
   ]
  },
  {
   "cell_type": "code",
   "execution_count": null,
   "metadata": {
    "id": "IJy6N4Q5EPN4"
   },
   "outputs": [],
   "source": [
    "network =Sequential()\n",
    "network.add(base_model)\n",
    "\n",
    "network.add(Flatten())\n",
    "network.add(Dense(38, activation='softmax'))"
   ]
  },
  {
   "cell_type": "code",
   "execution_count": null,
   "metadata": {
    "id": "ZTgUwL1O6bR7"
   },
   "outputs": [],
   "source": [
    "base_model.summary()"
   ]
  },
  {
   "cell_type": "code",
   "execution_count": null,
   "metadata": {
    "id": "eH2a2qyNn9ve"
   },
   "outputs": [],
   "source": [
    "network.summary()"
   ]
  },
  {
   "cell_type": "code",
   "execution_count": null,
   "metadata": {
    "id": "PYL0jrwsn9yo"
   },
   "outputs": [],
   "source": [
    "network.compile(\n",
    "  loss='categorical_crossentropy',\n",
    "  optimizer='adam',\n",
    "  metrics=['accuracy']\n",
    ")"
   ]
  },
  {
   "cell_type": "code",
   "execution_count": null,
   "metadata": {
    "id": "qIWytDGdn905"
   },
   "outputs": [],
   "source": [
    "network.fit(\n",
    "  train_gen,\n",
    "  validation_data=valid_gen,\n",
    "  epochs=3,verbose=1\n",
    ")"
   ]
  },
  {
   "cell_type": "code",
   "execution_count": null,
   "metadata": {
    "id": "xwEGk4ooEb7V"
   },
   "outputs": [],
   "source": [
    "network.save('vgg19_model.h5')"
   ]
  },
  {
   "cell_type": "markdown",
   "metadata": {
    "id": "CpWOyfzQXSqc"
   },
   "source": [
    "# **InceptionV3 model (299,299,3)**\n",
    "## - **48 deep layers (takes a lot time)**\n",
    "- [Inception model](https://towardsdatascience.com/deep-learning-understand-the-inception-module-56146866e652)\n",
    "- [5 models](https://www.pyimagesearch.com/2017/03/20/imagenet-vggnet-resnet-inception-xception-keras/)"
   ]
  },
  {
   "cell_type": "code",
   "execution_count": null,
   "metadata": {
    "id": "sK9EDL7en99f"
   },
   "outputs": [],
   "source": [
    "train_gen = train_datagen.flow_from_dataframe(dataframe = train_dataset_df, x_col='Image_Paths', y_col='Labels', batch_size=16, \n",
    "                                               target_size = (150,150),class_mode = 'categorical', shuffle=True)"
   ]
  },
  {
   "cell_type": "code",
   "execution_count": null,
   "metadata": {
    "id": "vnZ2ZKeSCw2a"
   },
   "outputs": [],
   "source": [
    "from keras.applications.inception_v3 import InceptionV3\n",
    "base_model = tf.keras.applications.InceptionV3(weights='imagenet', input_shape=(150,150,3), include_top =False)"
   ]
  },
  {
   "cell_type": "code",
   "execution_count": null,
   "metadata": {
    "id": "3kYyhCZpew4D"
   },
   "outputs": [],
   "source": [
    "for layer in base_model.layers:\n",
    "  layer.trainable = False"
   ]
  },
  {
   "cell_type": "code",
   "execution_count": null,
   "metadata": {
    "id": "bd9FP8YHn9_q"
   },
   "outputs": [],
   "source": [
    "valid_gen = train_datagen.flow_from_dataframe(dataframe = valid_dataset_df, x_col='Image_Paths', y_col='Labels', batch_size=16, target_size = (150,150),\n",
    "                                              class_mode = 'categorical', shuffle=True)"
   ]
  },
  {
   "cell_type": "code",
   "execution_count": null,
   "metadata": {
    "id": "5aQgQcRXn-GK"
   },
   "outputs": [],
   "source": [
    "network =Sequential()\n",
    "network.add(base_model)\n",
    "\n",
    "network.add(Flatten())\n",
    "network.add(Dense(38, activation='softmax'))"
   ]
  },
  {
   "cell_type": "code",
   "execution_count": null,
   "metadata": {
    "id": "DD4Zriut7Iak"
   },
   "outputs": [],
   "source": [
    "base_model.summary()"
   ]
  },
  {
   "cell_type": "code",
   "execution_count": null,
   "metadata": {
    "id": "wCVuTXBubx3p"
   },
   "outputs": [],
   "source": [
    "network.summary()"
   ]
  },
  {
   "cell_type": "code",
   "execution_count": null,
   "metadata": {
    "id": "pAZPIvzQbyoj"
   },
   "outputs": [],
   "source": [
    "network.compile(\n",
    "  loss='categorical_crossentropy',\n",
    "  optimizer='adam',\n",
    "  metrics=['accuracy']\n",
    ")"
   ]
  },
  {
   "cell_type": "code",
   "execution_count": null,
   "metadata": {
    "id": "QJqIHMyTbyya"
   },
   "outputs": [],
   "source": [
    "network.fit(\n",
    "  train_gen,\n",
    "  validation_data=valid_gen,\n",
    "  epochs=3,verbose=1\n",
    ")"
   ]
  },
  {
   "cell_type": "code",
   "execution_count": null,
   "metadata": {
    "id": "S_4frh51EgGt"
   },
   "outputs": [],
   "source": [
    "network.save('inception_V3_model.h5')"
   ]
  },
  {
   "cell_type": "markdown",
   "metadata": {
    "id": "p53q9puiornY"
   },
   "source": [
    "# **InceptionResNetV2**"
   ]
  },
  {
   "cell_type": "code",
   "execution_count": null,
   "metadata": {
    "id": "OC5gaGYLoqJI"
   },
   "outputs": [],
   "source": []
  },
  {
   "cell_type": "markdown",
   "metadata": {
    "id": "VuSTLWLYwwhc"
   },
   "source": [
    "# **MobileNetV2**\n",
    "[Model Link](https://www.tensorflow.org/api_docs/python/tf/keras/applications/mobilenet_v2/MobileNetV2)"
   ]
  },
  {
   "cell_type": "code",
   "execution_count": null,
   "metadata": {
    "id": "2Vpjcu3NoqkT"
   },
   "outputs": [],
   "source": []
  },
  {
   "cell_type": "markdown",
   "metadata": {
    "id": "CqfFbXmOddnQ"
   },
   "source": [
    "# **END------------------------------------**"
   ]
  }
 ],
 "metadata": {
  "accelerator": "TPU",
  "colab": {
   "collapsed_sections": [],
   "name": "Plant_Disease.ipynb",
   "provenance": []
  },
  "kernelspec": {
   "display_name": "Python 3",
   "language": "python",
   "name": "python3"
  },
  "language_info": {
   "codemirror_mode": {
    "name": "ipython",
    "version": 3
   },
   "file_extension": ".py",
   "mimetype": "text/x-python",
   "name": "python",
   "nbconvert_exporter": "python",
   "pygments_lexer": "ipython3",
   "version": "3.8.8"
  }
 },
 "nbformat": 4,
 "nbformat_minor": 1
}
