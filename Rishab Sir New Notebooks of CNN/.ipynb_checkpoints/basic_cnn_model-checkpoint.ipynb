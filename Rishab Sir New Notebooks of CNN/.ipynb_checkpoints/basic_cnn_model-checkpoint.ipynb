{
 "cells": [
  {
   "cell_type": "markdown",
   "id": "743082dd",
   "metadata": {},
   "source": [
    "# `CNN model from scratch`"
   ]
  },
  {
   "cell_type": "code",
   "execution_count": 32,
   "id": "e261d94c",
   "metadata": {},
   "outputs": [],
   "source": [
    "import tensorflow as tf \n",
    "from tensorflow.keras.models import Sequential\n",
    "from tensorflow.keras.layers import Conv2D, MaxPool2D, Flatten, Dense\n",
    "from tensorflow.keras.datasets import mnist\n",
    "from tensorflow.keras.utils import to_categorical # similar like one hot encoding"
   ]
  },
  {
   "cell_type": "code",
   "execution_count": 33,
   "id": "a04dca2c",
   "metadata": {},
   "outputs": [],
   "source": [
    "(X_train, Y_train), (X_test, Y_test) = mnist.load_data()  # type of an api"
   ]
  },
  {
   "cell_type": "code",
   "execution_count": 34,
   "id": "1564557e",
   "metadata": {},
   "outputs": [
    {
     "data": {
      "text/plain": [
       "(60000, 28, 28)"
      ]
     },
     "execution_count": 34,
     "metadata": {},
     "output_type": "execute_result"
    }
   ],
   "source": [
    "X_train.shape"
   ]
  },
  {
   "cell_type": "code",
   "execution_count": 35,
   "id": "c88a86d8",
   "metadata": {},
   "outputs": [
    {
     "data": {
      "text/plain": [
       "(10000, 28, 28)"
      ]
     },
     "execution_count": 35,
     "metadata": {},
     "output_type": "execute_result"
    }
   ],
   "source": [
    "X_test.shape"
   ]
  },
  {
   "cell_type": "code",
   "execution_count": 36,
   "id": "1401274d",
   "metadata": {},
   "outputs": [
    {
     "name": "stdout",
     "output_type": "stream",
     "text": [
      "Label of the image is 8\n",
      "(28, 28)\n"
     ]
    },
    {
     "data": {
      "image/png": "[encoded data removed]",
      "text/plain": [
       "<Figure size 432x288 with 1 Axes>"
      ]
     },
     "metadata": {
      "needs_background": "light"
     },
     "output_type": "display_data"
    }
   ],
   "source": [
    "import matplotlib.pyplot as plt\n",
    "print(\"Label of the image is\", Y_train[2001])\n",
    "plt.imshow(X_train[2001], cmap='gray')\n",
    "print(X_train[2001].shape)"
   ]
  },
  {
   "cell_type": "markdown",
   "id": "439548c5",
   "metadata": {},
   "source": [
    "### `channel is required, CNN accepts in this way: standard assumption`"
   ]
  },
  {
   "cell_type": "code",
   "execution_count": 37,
   "id": "aab82528",
   "metadata": {},
   "outputs": [],
   "source": [
    "X_train = X_train.reshape(X_train.shape[0], 28,28,1)\n",
    "X_test = X_test.reshape(X_test.shape[0], 28,28,1)"
   ]
  },
  {
   "cell_type": "code",
   "execution_count": 38,
   "id": "cb52ae3e",
   "metadata": {},
   "outputs": [
    {
     "name": "stdout",
     "output_type": "stream",
     "text": [
      "(60000, 28, 28, 1) (10000, 28, 28, 1)\n"
     ]
    }
   ],
   "source": [
    "print(X_train.shape, X_test.shape)"
   ]
  },
  {
   "cell_type": "code",
   "execution_count": 39,
   "id": "2d2a0a80",
   "metadata": {},
   "outputs": [],
   "source": [
    "X_train = X_train.astype('float32')\n",
    "X_test = X_test.astype('float32')"
   ]
  },
  {
   "cell_type": "markdown",
   "id": "d72a30b0",
   "metadata": {},
   "source": [
    "### `Normalization between 0 to 1`"
   ]
  },
  {
   "cell_type": "code",
   "execution_count": 40,
   "id": "098591be",
   "metadata": {},
   "outputs": [],
   "source": [
    "X_train/=255\n",
    "X_test/=255"
   ]
  },
  {
   "cell_type": "code",
   "execution_count": 42,
   "id": "67e6f5be",
   "metadata": {},
   "outputs": [
    {
     "name": "stdout",
     "output_type": "stream",
     "text": [
      "1.0\n",
      "0.0\n"
     ]
    }
   ],
   "source": [
    "print(X_train.max())\n",
    "print(X_train.min())"
   ]
  },
  {
   "cell_type": "code",
   "execution_count": 43,
   "id": "aa8d0425",
   "metadata": {},
   "outputs": [
    {
     "data": {
      "text/plain": [
       "array([5, 0, 4, 1, 9], dtype=uint8)"
      ]
     },
     "execution_count": 43,
     "metadata": {},
     "output_type": "execute_result"
    }
   ],
   "source": [
    "Y_train[0:5]"
   ]
  },
  {
   "cell_type": "code",
   "execution_count": 44,
   "id": "198fc24c",
   "metadata": {},
   "outputs": [],
   "source": [
    "Y_train = to_categorical(Y_train, num_classes=10)\n",
    "Y_test = to_categorical(Y_test, num_classes=10)"
   ]
  },
  {
   "cell_type": "code",
   "execution_count": 45,
   "id": "d57df357",
   "metadata": {},
   "outputs": [
    {
     "data": {
      "text/plain": [
       "array([[0., 0., 0., 0., 0., 1., 0., 0., 0., 0.],\n",
       "       [1., 0., 0., 0., 0., 0., 0., 0., 0., 0.],\n",
       "       [0., 0., 0., 0., 1., 0., 0., 0., 0., 0.],\n",
       "       [0., 1., 0., 0., 0., 0., 0., 0., 0., 0.],\n",
       "       [0., 0., 0., 0., 0., 0., 0., 0., 0., 1.]], dtype=float32)"
      ]
     },
     "execution_count": 45,
     "metadata": {},
     "output_type": "execute_result"
    }
   ],
   "source": [
    "Y_train[0:5]"
   ]
  },
  {
   "cell_type": "markdown",
   "id": "b3a329e4",
   "metadata": {},
   "source": [
    "### `model from scratch`"
   ]
  },
  {
   "cell_type": "code",
   "execution_count": 46,
   "id": "8120f07e",
   "metadata": {},
   "outputs": [],
   "source": [
    "model = Sequential()\n",
    "model.add(Conv2D(filters=32, kernel_size=3, activation='relu', input_shape=(28,28,1)))   # will give out 32 features\n",
    "model.add(Conv2D(filters=64, kernel_size=3, activation = 'relu'))   # will give out 64 features\n",
    "model.add(Flatten())  # convert matrix in a single array\n",
    "model.add(Dense(128, activation='relu'))  # \n",
    "model.add(Dense(10, activation='softmax'))"
   ]
  },
  {
   "cell_type": "markdown",
   "id": "1525a17a",
   "metadata": {},
   "source": [
    "**Dense layer**: In any neural network, a dense layer is a layer that is deeply connected with its preceding layer which means the neurons of the layer are connected to every neuron of its preceding layer. This layer is the most commonly used layer in artificial neural network networks."
   ]
  },
  {
   "cell_type": "code",
   "execution_count": 47,
   "id": "fddf10e4",
   "metadata": {},
   "outputs": [],
   "source": [
    "model.compile(loss='categorical_crossentropy', metrics=['accuracy'], optimizer='adam')"
   ]
  },
  {
   "cell_type": "code",
   "execution_count": 48,
   "id": "bbae75a7",
   "metadata": {},
   "outputs": [
    {
     "name": "stdout",
     "output_type": "stream",
     "text": [
      "Epoch 1/5\n",
      "1313/1313 [==============================] - 175s 131ms/step - loss: 0.1230 - accuracy: 0.9628 - val_loss: 0.0685 - val_accuracy: 0.9788\n",
      "Epoch 2/5\n",
      "1313/1313 [==============================] - 166s 127ms/step - loss: 0.0379 - accuracy: 0.9880 - val_loss: 0.0577 - val_accuracy: 0.9835\n",
      "Epoch 3/5\n",
      "1313/1313 [==============================] - 165s 125ms/step - loss: 0.0198 - accuracy: 0.9936 - val_loss: 0.0524 - val_accuracy: 0.9861\n",
      "Epoch 4/5\n",
      "1313/1313 [==============================] - 164s 125ms/step - loss: 0.0138 - accuracy: 0.9954 - val_loss: 0.0637 - val_accuracy: 0.9835\n",
      "Epoch 5/5\n",
      "1313/1313 [==============================] - 171s 130ms/step - loss: 0.0115 - accuracy: 0.9959 - val_loss: 0.0694 - val_accuracy: 0.9850\n"
     ]
    },
    {
     "data": {
      "text/plain": [
       "<keras.callbacks.History at 0x280804dd1c0>"
      ]
     },
     "execution_count": 48,
     "metadata": {},
     "output_type": "execute_result"
    }
   ],
   "source": [
    "model.fit(X_train, Y_train, batch_size=32, epochs=5, validation_split=0.3)"
   ]
  },
  {
   "cell_type": "code",
   "execution_count": 55,
   "id": "4c240925",
   "metadata": {},
   "outputs": [
    {
     "name": "stdout",
     "output_type": "stream",
     "text": [
      "Actual : [[0. 0. 0. 0. 0. 0. 1. 0. 0. 0.]]\n",
      "Predicted not rounded : [[3.24151903e-12 4.75954302e-12 3.34561545e-12 2.35556496e-12\n",
      "  4.12273909e-10 8.65203589e-08 9.99999881e-01 7.01868705e-18\n",
      "  9.39430667e-09 1.22273225e-11]]\n",
      "Predicted Rounded : [[0. 0. 0. 0. 0. 0. 1. 0. 0. 0.]]\n"
     ]
    }
   ],
   "source": [
    "import numpy as np\n",
    "print('Actual :',Y_test[2000:2001])\n",
    "val = model.predict(X_test[2000:2001])\n",
    "print('Predicted not rounded :',val)\n",
    "print('Predicted Rounded :',np.round(val))\n",
    "#print(X_test[2000:2001])"
   ]
  },
  {
   "cell_type": "markdown",
   "id": "f4663d73",
   "metadata": {},
   "source": [
    "# `END --------------------------------------`"
   ]
  }
 ],
 "metadata": {
  "kernelspec": {
   "display_name": "Python 3 (ipykernel)",
   "language": "python",
   "name": "python3"
  },
  "language_info": {
   "codemirror_mode": {
    "name": "ipython",
    "version": 3
   },
   "file_extension": ".py",
   "mimetype": "text/x-python",
   "name": "python",
   "nbconvert_exporter": "python",
   "pygments_lexer": "ipython3",
   "version": "3.9.7"
  }
 },
 "nbformat": 4,
 "nbformat_minor": 5
}
