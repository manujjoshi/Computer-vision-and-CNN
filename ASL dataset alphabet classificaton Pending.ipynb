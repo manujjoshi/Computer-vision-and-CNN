{
 "cells": [
  {
   "cell_type": "markdown",
   "id": "96071ab4",
   "metadata": {},
   "source": [
    "# Class 3: `Alphabet Classification`"
   ]
  },
  {
   "cell_type": "code",
   "execution_count": 2,
   "id": "46159d58",
   "metadata": {},
   "outputs": [],
   "source": [
    "import pandas as pd\n",
    "import numpy as np\n",
    "import tensorflow as tf\n",
    "import matplotlib.pyplot as plt\n",
    "import cv2\n",
    "import os"
   ]
  },
  {
   "cell_type": "code",
   "execution_count": 3,
   "id": "7812a680",
   "metadata": {},
   "outputs": [],
   "source": [
    "dataset = r'F:\\ASL_dataset'\n",
    "train_path = r'F:\\ASL_dataset\\asl_alphabet_train'\n",
    "test_path = r'F:\\ASL_dataset\\asl_alphabet_test'"
   ]
  },
  {
   "cell_type": "markdown",
   "id": "f8d2663d",
   "metadata": {},
   "source": [
    "#### `read the classes`"
   ]
  },
  {
   "cell_type": "code",
   "execution_count": 6,
   "id": "1ec7f05a",
   "metadata": {},
   "outputs": [
    {
     "name": "stdout",
     "output_type": "stream",
     "text": [
      "29\n",
      "['A', 'B', 'C', 'D', 'del', 'E', 'F', 'G', 'H', 'I', 'J', 'K', 'L', 'M', 'N', 'nothing', 'O', 'P', 'Q', 'R', 'S', 'space', 'T', 'U', 'V', 'W', 'X', 'Y', 'Z']\n"
     ]
    }
   ],
   "source": [
    "dirls = os.listdir(train_path)\n",
    "print(dirls.__len__()) # number of different classes\n",
    "print(dirls)"
   ]
  },
  {
   "cell_type": "code",
   "execution_count": 5,
   "id": "97f43fab",
   "metadata": {},
   "outputs": [
    {
     "name": "stdout",
     "output_type": "stream",
     "text": [
      "28\n",
      "['A_test.jpg', 'B_test.jpg', 'C_test.jpg', 'D_test.jpg', 'E_test.jpg', 'F_test.jpg', 'G_test.jpg', 'H_test.jpg', 'I_test.jpg', 'J_test.jpg', 'K_test.jpg', 'L_test.jpg', 'M_test.jpg', 'nothing_test.jpg', 'N_test.jpg', 'O_test.jpg', 'P_test.jpg', 'Q_test.jpg', 'R_test.jpg', 'space_test.jpg', 'S_test.jpg', 'T_test.jpg', 'U_test.jpg', 'V_test.jpg', 'W_test.jpg', 'X_test.jpg', 'Y_test.jpg', 'Z_test.jpg']\n"
     ]
    }
   ],
   "source": [
    "dirls = os.listdir(test_path)\n",
    "print(dirls.__len__())\n",
    "print(dirls)"
   ]
  },
  {
   "cell_type": "markdown",
   "id": "713125f4",
   "metadata": {},
   "source": [
    "#### `class path`"
   ]
  },
  {
   "cell_type": "code",
   "execution_count": 7,
   "id": "73df358e",
   "metadata": {},
   "outputs": [
    {
     "data": {
      "text/plain": [
       "'F:\\\\ASL_dataset\\\\asl_alphabet_train\\\\A'"
      ]
     },
     "execution_count": 7,
     "metadata": {},
     "output_type": "execute_result"
    }
   ],
   "source": [
    "val = train_path + '\\\\' + dirls[0]\n",
    "val"
   ]
  },
  {
   "cell_type": "code",
   "execution_count": 12,
   "id": "ef360191",
   "metadata": {},
   "outputs": [],
   "source": [
    "def loading_path(path):\n",
    "    pathnames = []\n",
    "    dir_list = os.listdir(path)\n",
    "    uniq_class = sorted(dir_list)\n",
    "    for i in range(len(uniq_class)):\n",
    "        new_path = path + '\\\\' + uniq_class[i]\n",
    "        pathnames.append(new_path)\n",
    "    return (pathnames,uniq_class)"
   ]
  },
  {
   "cell_type": "code",
   "execution_count": 13,
   "id": "fa644f6b",
   "metadata": {},
   "outputs": [],
   "source": [
    "path,classes = loading_path(train_path)"
   ]
  },
  {
   "cell_type": "code",
   "execution_count": 14,
   "id": "f4177d55",
   "metadata": {},
   "outputs": [
    {
     "name": "stdout",
     "output_type": "stream",
     "text": [
      "['F:\\\\ASL_dataset\\\\asl_alphabet_train\\\\A', 'F:\\\\ASL_dataset\\\\asl_alphabet_train\\\\B', 'F:\\\\ASL_dataset\\\\asl_alphabet_train\\\\C', 'F:\\\\ASL_dataset\\\\asl_alphabet_train\\\\D', 'F:\\\\ASL_dataset\\\\asl_alphabet_train\\\\E', 'F:\\\\ASL_dataset\\\\asl_alphabet_train\\\\F', 'F:\\\\ASL_dataset\\\\asl_alphabet_train\\\\G', 'F:\\\\ASL_dataset\\\\asl_alphabet_train\\\\H', 'F:\\\\ASL_dataset\\\\asl_alphabet_train\\\\I', 'F:\\\\ASL_dataset\\\\asl_alphabet_train\\\\J', 'F:\\\\ASL_dataset\\\\asl_alphabet_train\\\\K', 'F:\\\\ASL_dataset\\\\asl_alphabet_train\\\\L', 'F:\\\\ASL_dataset\\\\asl_alphabet_train\\\\M', 'F:\\\\ASL_dataset\\\\asl_alphabet_train\\\\N', 'F:\\\\ASL_dataset\\\\asl_alphabet_train\\\\O', 'F:\\\\ASL_dataset\\\\asl_alphabet_train\\\\P', 'F:\\\\ASL_dataset\\\\asl_alphabet_train\\\\Q', 'F:\\\\ASL_dataset\\\\asl_alphabet_train\\\\R', 'F:\\\\ASL_dataset\\\\asl_alphabet_train\\\\S', 'F:\\\\ASL_dataset\\\\asl_alphabet_train\\\\T', 'F:\\\\ASL_dataset\\\\asl_alphabet_train\\\\U', 'F:\\\\ASL_dataset\\\\asl_alphabet_train\\\\V', 'F:\\\\ASL_dataset\\\\asl_alphabet_train\\\\W', 'F:\\\\ASL_dataset\\\\asl_alphabet_train\\\\X', 'F:\\\\ASL_dataset\\\\asl_alphabet_train\\\\Y', 'F:\\\\ASL_dataset\\\\asl_alphabet_train\\\\Z', 'F:\\\\ASL_dataset\\\\asl_alphabet_train\\\\del', 'F:\\\\ASL_dataset\\\\asl_alphabet_train\\\\nothing', 'F:\\\\ASL_dataset\\\\asl_alphabet_train\\\\space']\n"
     ]
    }
   ],
   "source": [
    "print(path)"
   ]
  },
  {
   "cell_type": "code",
   "execution_count": 15,
   "id": "54a640e6",
   "metadata": {},
   "outputs": [
    {
     "name": "stdout",
     "output_type": "stream",
     "text": [
      "['A', 'B', 'C', 'D', 'E', 'F', 'G', 'H', 'I', 'J', 'K', 'L', 'M', 'N', 'O', 'P', 'Q', 'R', 'S', 'T', 'U', 'V', 'W', 'X', 'Y', 'Z', 'del', 'nothing', 'space']\n"
     ]
    }
   ],
   "source": [
    "print(classes)"
   ]
  },
  {
   "cell_type": "code",
   "execution_count": 16,
   "id": "c7b999da",
   "metadata": {},
   "outputs": [],
   "source": [
    "def labelling_images(uniq_path,uniq_label):\n",
    "    img_path = []\n",
    "    label = []\n",
    "    for path,Label in zip(uniq_path,uniq_label):\n",
    "        dir_list = os.listdir(path)\n",
    "        for i in dir_list:\n",
    "            img_dir_list = path + '\\\\' + i\n",
    "            img_path.append(img_dir_list)\n",
    "            label.append(Label)\n",
    "    return(img_path,label)"
   ]
  },
  {
   "cell_type": "code",
   "execution_count": 17,
   "id": "6aca90b7",
   "metadata": {},
   "outputs": [],
   "source": [
    "img_path,label = labelling_images(path,classes)"
   ]
  },
  {
   "cell_type": "code",
   "execution_count": 18,
   "id": "4453b8e6",
   "metadata": {},
   "outputs": [
    {
     "data": {
      "text/plain": [
       "87000"
      ]
     },
     "execution_count": 18,
     "metadata": {},
     "output_type": "execute_result"
    }
   ],
   "source": [
    "img_path.__len__()"
   ]
  },
  {
   "cell_type": "code",
   "execution_count": 20,
   "id": "7ebc7545",
   "metadata": {},
   "outputs": [
    {
     "data": {
      "text/plain": [
       "3000"
      ]
     },
     "execution_count": 20,
     "metadata": {},
     "output_type": "execute_result"
    }
   ],
   "source": [
    "os.listdir('F:\\\\ASL_dataset\\\\asl_alphabet_train\\\\A').__len__()"
   ]
  },
  {
   "cell_type": "markdown",
   "id": "1168e287",
   "metadata": {},
   "source": [
    "#### `number of classes`"
   ]
  },
  {
   "cell_type": "code",
   "execution_count": 21,
   "id": "ac4d23a9",
   "metadata": {},
   "outputs": [
    {
     "data": {
      "text/plain": [
       "29.0"
      ]
     },
     "execution_count": 21,
     "metadata": {},
     "output_type": "execute_result"
    }
   ],
   "source": [
    "87000/3000"
   ]
  },
  {
   "cell_type": "code",
   "execution_count": 24,
   "id": "d57f180c",
   "metadata": {},
   "outputs": [
    {
     "data": {
      "text/plain": [
       "['F:\\\\ASL_dataset\\\\asl_alphabet_train\\\\A\\\\A1.jpg',\n",
       " 'F:\\\\ASL_dataset\\\\asl_alphabet_train\\\\A\\\\A10.jpg',\n",
       " 'F:\\\\ASL_dataset\\\\asl_alphabet_train\\\\A\\\\A100.jpg',\n",
       " 'F:\\\\ASL_dataset\\\\asl_alphabet_train\\\\A\\\\A1000.jpg',\n",
       " 'F:\\\\ASL_dataset\\\\asl_alphabet_train\\\\A\\\\A1001.jpg']"
      ]
     },
     "execution_count": 24,
     "metadata": {},
     "output_type": "execute_result"
    }
   ],
   "source": [
    "img_path[:5]"
   ]
  },
  {
   "cell_type": "code",
   "execution_count": 25,
   "id": "bf82cdac",
   "metadata": {},
   "outputs": [
    {
     "data": {
      "text/plain": [
       "['A', 'A', 'A', 'A', 'A']"
      ]
     },
     "execution_count": 25,
     "metadata": {},
     "output_type": "execute_result"
    }
   ],
   "source": [
    "label[:5]"
   ]
  },
  {
   "cell_type": "code",
   "execution_count": 27,
   "id": "62fac1b2",
   "metadata": {},
   "outputs": [
    {
     "data": {
      "text/plain": [
       "<matplotlib.image.AxesImage at 0x1ba50a0f520>"
      ]
     },
     "execution_count": 27,
     "metadata": {},
     "output_type": "execute_result"
    },
    {
     "data": {
      "image/png": "[encoded data removed]",
      "text/plain": [
       "<Figure size 432x288 with 1 Axes>"
      ]
     },
     "metadata": {
      "needs_background": "light"
     },
     "output_type": "display_data"
    }
   ],
   "source": [
    "img = cv2.imread(img_path[0])\n",
    "plt.imshow(img)"
   ]
  },
  {
   "cell_type": "code",
   "execution_count": 29,
   "id": "939cb627",
   "metadata": {},
   "outputs": [
    {
     "data": {
      "text/plain": [
       "array(['A', 'A', 'A', ..., 'space', 'space', 'space'], dtype='<U7')"
      ]
     },
     "execution_count": 29,
     "metadata": {},
     "output_type": "execute_result"
    }
   ],
   "source": [
    "labels = np.array(label)\n",
    "labels"
   ]
  },
  {
   "cell_type": "markdown",
   "id": "5b9ede8e",
   "metadata": {},
   "source": [
    "#### `resize the image`"
   ]
  },
  {
   "cell_type": "code",
   "execution_count": 32,
   "id": "baf2c009",
   "metadata": {},
   "outputs": [],
   "source": [
    "def img_array(paths):\n",
    "    arr_list = []\n",
    "    for i in paths:\n",
    "        img = cv2.resize(cv2.imread(i),(150,150))\n",
    "        arr_list.append(img)\n",
    "    return(arr_list)"
   ]
  },
  {
   "cell_type": "code",
   "execution_count": 33,
   "id": "5f5a243c",
   "metadata": {},
   "outputs": [
    {
     "ename": "MemoryError",
     "evalue": "Unable to allocate 5.47 GiB for an array with shape (87000, 150, 150, 3) and data type uint8",
     "output_type": "error",
     "traceback": [
      "\u001b[1;31m---------------------------------------------------------------------------\u001b[0m",
      "\u001b[1;31mMemoryError\u001b[0m                               Traceback (most recent call last)",
      "\u001b[1;32m<ipython-input-33-5b85e720c791>\u001b[0m in \u001b[0;36m<module>\u001b[1;34m\u001b[0m\n\u001b[0;32m      1\u001b[0m \u001b[0marr_img\u001b[0m \u001b[1;33m=\u001b[0m \u001b[0mimg_array\u001b[0m\u001b[1;33m(\u001b[0m\u001b[0mimg_path\u001b[0m\u001b[1;33m)\u001b[0m\u001b[1;33m\u001b[0m\u001b[1;33m\u001b[0m\u001b[0m\n\u001b[1;32m----> 2\u001b[1;33m \u001b[0marr_img\u001b[0m \u001b[1;33m=\u001b[0m \u001b[0mnp\u001b[0m\u001b[1;33m.\u001b[0m\u001b[0marray\u001b[0m\u001b[1;33m(\u001b[0m\u001b[0marr_img\u001b[0m\u001b[1;33m)\u001b[0m\u001b[1;33m\u001b[0m\u001b[1;33m\u001b[0m\u001b[0m\n\u001b[0m\u001b[0;32m      3\u001b[0m \u001b[0mprint\u001b[0m\u001b[1;33m(\u001b[0m\u001b[0mtype\u001b[0m\u001b[1;33m(\u001b[0m\u001b[0marr_img\u001b[0m\u001b[1;33m[\u001b[0m\u001b[1;36m0\u001b[0m\u001b[1;33m]\u001b[0m\u001b[1;33m)\u001b[0m\u001b[1;33m)\u001b[0m\u001b[1;33m\u001b[0m\u001b[1;33m\u001b[0m\u001b[0m\n\u001b[0;32m      4\u001b[0m \u001b[0mplt\u001b[0m\u001b[1;33m.\u001b[0m\u001b[0mimshow\u001b[0m\u001b[1;33m(\u001b[0m\u001b[0marr_img\u001b[0m\u001b[1;33m[\u001b[0m\u001b[1;36m0\u001b[0m\u001b[1;33m]\u001b[0m\u001b[1;33m)\u001b[0m\u001b[1;33m\u001b[0m\u001b[1;33m\u001b[0m\u001b[0m\n",
      "\u001b[1;31mMemoryError\u001b[0m: Unable to allocate 5.47 GiB for an array with shape (87000, 150, 150, 3) and data type uint8"
     ]
    }
   ],
   "source": [
    "arr_img = img_array(img_path)\n",
    "arr_img = np.array(arr_img)\n",
    "print(type(arr_img[0]))\n",
    "plt.imshow(arr_img[0])"
   ]
  },
  {
   "cell_type": "markdown",
   "id": "ddf586fc",
   "metadata": {},
   "source": [
    "### `Data is too large to process`"
   ]
  },
  {
   "cell_type": "code",
   "execution_count": null,
   "id": "d2c09441",
   "metadata": {},
   "outputs": [],
   "source": [
    "from sklearn.model_selection train_test_split\n",
    "from tensorflow.keras.models import Sequential\n",
    "from tensorflow.keras.layers import Dense, Conv2D,MaxPooling2D,Dropout,Flatten,GlobalAveragePooling2D\n",
    "from tensorflow.keras.optimizers import Adam"
   ]
  }
 ],
 "metadata": {
  "kernelspec": {
   "display_name": "Python 3",
   "language": "python",
   "name": "python3"
  },
  "language_info": {
   "codemirror_mode": {
    "name": "ipython",
    "version": 3
   },
   "file_extension": ".py",
   "mimetype": "text/x-python",
   "name": "python",
   "nbconvert_exporter": "python",
   "pygments_lexer": "ipython3",
   "version": "3.8.8"
  }
 },
 "nbformat": 4,
 "nbformat_minor": 5
}
